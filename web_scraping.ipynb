{
 "cells": [
  {
   "cell_type": "code",
   "execution_count": 1,
   "id": "7f848ee2-2fdf-4b00-94f9-89696fb83e2d",
   "metadata": {
    "tags": []
   },
   "outputs": [],
   "source": [
    "from bs4 import BeautifulSoup as bs\n",
    "import requests\n",
    "import pandas as pd\n"
   ]
  },
  {
   "cell_type": "code",
   "execution_count": 2,
   "id": "6ab14e74-6c10-45db-88e5-34d4f446ce50",
   "metadata": {
    "tags": []
   },
   "outputs": [],
   "source": [
    "scraping_url_list = [\"https://www.dunyahalleri.com/category/teknoloji-bilim/page/\",\n",
    "                     \"https://www.dunyahalleri.com/category/kultur-sanat/page\"]"
   ]
  },
  {
   "cell_type": "code",
   "execution_count": null,
   "id": "c5a7475d-393a-4e36-90f4-9d89a932b636",
   "metadata": {
    "tags": []
   },
   "outputs": [],
   "source": [
    "urls = []\n",
    "\n",
    "for i in scraping_url_list:\n",
    "    for j in range(1,28):\n",
    "        \n",
    "        sect_url = i + str(j)\n",
    "        \n",
    "        html = requests.get(sect_url).text\n",
    "        soup = bs(html, \"html.parser\")\n",
    "        news = soup.findAll(\"div\", class_ =\"herald-module col-mod-main col-lg-12 col-md-12\")\n",
    "        \n",
    "        for news_url in news:\n",
    "            for k in news_url.find_all('a', href=True):\n",
    "                \n",
    "                urls.append(k[\"href\"])"
   ]
  },
  {
   "cell_type": "code",
   "execution_count": null,
   "id": "6af9470f-0baf-457c-abde-9d84c8384d70",
   "metadata": {
    "tags": []
   },
   "outputs": [],
   "source": [
    "urls[5]\n",
    "len(urls)"
   ]
  },
  {
   "cell_type": "code",
   "execution_count": null,
   "id": "e2ca8ffd-2bfe-4191-b768-f178e5197950",
   "metadata": {
    "tags": []
   },
   "outputs": [],
   "source": [
    "urls_df = pd.DataFrame(urls)\n",
    "    "
   ]
  },
  {
   "cell_type": "code",
   "execution_count": null,
   "id": "72859312-9574-4ce6-8099-208873a979d9",
   "metadata": {
    "tags": []
   },
   "outputs": [],
   "source": [
    "urls_df = urls_df.drop_duplicates()"
   ]
  },
  {
   "cell_type": "code",
   "execution_count": null,
   "id": "31ec152c-60aa-44b4-8600-bb6a8f21e1b8",
   "metadata": {
    "tags": []
   },
   "outputs": [],
   "source": [
    "urls_df.info()#url'lerin olduğu listeyi dataframe'e çevirip, listede birden fazla olan urlleri sildik. \n",
    "                # url sayısı 2538'ten 868'e indi böylece kod daha kısa sürecek çünkü daha az linke gideceğiz.\n",
    "urls_df.head()"
   ]
  },
  {
   "cell_type": "code",
   "execution_count": null,
   "id": "f2b90779-7f77-4ac5-bcbb-75a6927f252d",
   "metadata": {
    "tags": []
   },
   "outputs": [],
   "source": [
    "def text_mining(url):\n",
    "    try:\n",
    "        html = requests.get(url).text\n",
    "        soup = bs(html, \"html.parser\")\n",
    "        news_texts = soup.findAll(\"div\", class_ = \"col-lg-12 col-md-12 col-sm-12\")[0].find_all(\"p\")\n",
    "                                                                                                                                                          \n",
    "        news_text_all = \"\"\n",
    "\n",
    "        for i in news_texts:\n",
    "            news_text_all = news_text_all + i.text\n",
    "            \n",
    "        if soup.find(\"div\", class_ = \"entry-headline h5\").text:\n",
    "            headline = soup.find(\"div\", class_ = \"entry-headline h5\").text\n",
    "        else:\n",
    "            print(\"Headline yok.\")\n",
    "\n",
    "        return [headline, news_text_all]\n",
    "    except IndexError:\n",
    "        return None\n"
   ]
  },
  {
   "cell_type": "code",
   "execution_count": null,
   "id": "2a4094ed-e2c5-475f-b89a-17397c231849",
   "metadata": {
    "tags": []
   },
   "outputs": [],
   "source": [
    "dataset = []\n",
    "urls_new = urls_df.values.tolist()\n",
    "del urls_new[509] # 509. index'teki url'de hata aldım, çözemediğimden listeden sildim.\n",
    "\n",
    "for i in urls_new:\n",
    "   \n",
    "    dataset.append(text_mining(i[0]))"
   ]
  },
  {
   "cell_type": "code",
   "execution_count": null,
   "id": "35660e4b-3eb9-4f29-a9c8-1f37ddc8d6a4",
   "metadata": {
    "tags": []
   },
   "outputs": [],
   "source": [
    "len(dataset)\n",
    "dataset_cleaned = list(filter(lambda x: x is not None, dataset))"
   ]
  },
  {
   "cell_type": "code",
   "execution_count": null,
   "id": "8d4fcb18-8411-4993-9f6c-51eb5d79d3fc",
   "metadata": {
    "tags": []
   },
   "outputs": [],
   "source": [
    "nlp_project_dataset = pd.DataFrame(dataset_cleaned)\n"
   ]
  },
  {
   "cell_type": "code",
   "execution_count": null,
   "id": "6b727036-fbb1-4381-8cc5-80ec55d230ee",
   "metadata": {
    "tags": []
   },
   "outputs": [],
   "source": [
    "nlp_project_dataset.columns = [\"Headline\",\"Haber_Metni\"]"
   ]
  },
  {
   "cell_type": "code",
   "execution_count": null,
   "id": "04041a74-c67b-4798-8bd7-262af786f483",
   "metadata": {
    "jupyter": {
     "outputs_hidden": true
    },
    "tags": []
   },
   "outputs": [],
   "source": [
    "nlp_project_dataset.drop_duplicates()"
   ]
  },
  {
   "cell_type": "code",
   "execution_count": null,
   "id": "43518231-1d0a-4b2d-8515-ce1cd6354891",
   "metadata": {
    "tags": []
   },
   "outputs": [],
   "source": [
    "nlp_project_dataset.index = range(0, len(nlp_project_dataset))"
   ]
  },
  {
   "cell_type": "code",
   "execution_count": null,
   "id": "8073c6b0-810a-4e77-aa43-1e48f9cc231f",
   "metadata": {
    "tags": []
   },
   "outputs": [],
   "source": [
    "nlp_project_dataset.head()"
   ]
  },
  {
   "cell_type": "code",
   "execution_count": null,
   "id": "94548552-7bd7-43c4-a227-f3e744207cb9",
   "metadata": {
    "tags": []
   },
   "outputs": [],
   "source": [
    "nlp_project_dataset.to_csv(\"nlp_project_dataset.csv\")"
   ]
  },
  {
   "cell_type": "code",
   "execution_count": null,
   "id": "2ec2c08c",
   "metadata": {},
   "outputs": [],
   "source": []
  }
 ],
 "metadata": {
  "kernelspec": {
   "display_name": "Python 3 (ipykernel)",
   "language": "python",
   "name": "python3"
  },
  "language_info": {
   "codemirror_mode": {
    "name": "ipython",
    "version": 3
   },
   "file_extension": ".py",
   "mimetype": "text/x-python",
   "name": "python",
   "nbconvert_exporter": "python",
   "pygments_lexer": "ipython3",
   "version": "3.11.5"
  }
 },
 "nbformat": 4,
 "nbformat_minor": 5
}
