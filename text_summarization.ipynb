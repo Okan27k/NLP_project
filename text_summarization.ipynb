{
 "cells": [
  {
   "cell_type": "code",
   "execution_count": 1,
   "id": "d5b66318",
   "metadata": {},
   "outputs": [],
   "source": [
    "import pandas as pd\n",
    "import numpy as np\n",
    "import string\n",
    "import re\n",
    "import pandas as pd\n",
    "import numpy as np\n",
    "import string\n",
    "import re\n",
    "from sklearn.feature_extraction.text import TfidfVectorizer\n",
    "from simplemma import text_lemmatizer\n",
    "from nltk import sent_tokenize\n",
    "from nltk.corpus import stopwords"
   ]
  },
  {
   "cell_type": "code",
   "execution_count": 2,
   "id": "e70677de",
   "metadata": {},
   "outputs": [],
   "source": [
    "df = pd.read_csv(r\"C:\\Users\\hp\\nlp_project_dataset.csv\")"
   ]
  },
  {
   "cell_type": "code",
   "execution_count": 3,
   "id": "9aa1ee03",
   "metadata": {},
   "outputs": [],
   "source": [
    "stopWords = set(stopwords.words('turkish'))\n"
   ]
  },
  {
   "cell_type": "code",
   "execution_count": 4,
   "id": "a17111fd",
   "metadata": {},
   "outputs": [],
   "source": [
    "\n",
    "def clean_text(text):\n",
    "    \n",
    "    text = text.replace(\"Haber ÖzetiTam Sürüm\", \"\")\n",
    "    text = text.replace(\"[/inlinetweet]\", \"\")\n",
    "    text = text.lower()\n",
    "    text = re.sub(\"[0-9]+\", \"\", text)\n",
    "    text = re.sub(\"’|“|”|‘|–|—\", \" \", text)\n",
    "    text = re.sub(r\"https?:\\/\\/\\S+\", \" \", text)\n",
    "    text = re.sub(r\"http?:\\/\\/\\S+\", \" \", text)\n",
    "    text = text_lemmatizer(text, lang=\"tr\")\n",
    "    text = \" \".join([word for word in text if word not in stopWords])\n",
    "    \n",
    "    turkish_punctuation = \".,;:!?()[]{}'\\\"<>-_+=*&^%$#@~`|\\\\/\"\n",
    "    translate_table = str.maketrans(\"\", \"\", turkish_punctuation)\n",
    "    text = text.translate(translate_table)\n",
    "    \n",
    "    return text"
   ]
  },
  {
   "cell_type": "code",
   "execution_count": 5,
   "id": "f53fd6d3",
   "metadata": {},
   "outputs": [],
   "source": [
    "def cumle_puani(vektor):\n",
    "    non_zero_elems = vektor[vektor != 0]\n",
    "    return non_zero_elems.mean()"
   ]
  },
  {
   "cell_type": "code",
   "execution_count": 6,
   "id": "da58df3c",
   "metadata": {},
   "outputs": [],
   "source": [
    "def metin_ozetle(df_column, j, cumle_sayisi=2):\n",
    "    ozet = \"\"\n",
    "    metin = df_column.iloc[j]\n",
    "    cumleler = sent_tokenize(metin)\n",
    "    cumleler_temiz = [clean_text(c) for c in cumleler]\n",
    "    \n",
    "    vectorizer = TfidfVectorizer(norm=\"l1\")\n",
    "    X = vectorizer.fit_transform(cumleler_temiz)\n",
    "    skorlar = np.array([cumle_puani(v) for v in X])\n",
    "    siralama_indeksleri = np.argsort(-skorlar)\n",
    "    \n",
    "    print(\"Headline:\")\n",
    "    print(df[\"Headline\"][j])\n",
    "    print()\n",
    "    print(\"Özet:\")\n",
    "    for i in siralama_indeksleri[:cumle_sayisi]:\n",
    "        ozet += cumleler[i]\n",
    "    return ozet"
   ]
  },
  {
   "cell_type": "code",
   "execution_count": 7,
   "id": "14365f3d",
   "metadata": {},
   "outputs": [
    {
     "name": "stdout",
     "output_type": "stream",
     "text": [
      "Headline:\n",
      "Kötü amaçlı mobil yazılım şimdiden dünya çapında 25 milyon cihaza bulaşmış durumda.\n",
      "\n",
      "Özet:\n"
     ]
    },
    {
     "data": {
      "text/plain": [
       "'Bu cihazlardan 15 milyonu Hindistan’da.Şimdilik sadece kullanıcıların deneyimini olumsuz etkileyen bu virüs aslında çok daha tehlikeli amaçlarla kullanılabilir.Kötü amaçlı yazılım aynı zamanda Birleşik Krallık, Avustralya ve Amerika’da da yayılmış durumda.'"
      ]
     },
     "execution_count": 7,
     "metadata": {},
     "output_type": "execute_result"
    }
   ],
   "source": [
    "metin_ozetle(df[\"Haber_Metni\"],18, 3)"
   ]
  },
  {
   "cell_type": "code",
   "execution_count": 8,
   "id": "7cccb421",
   "metadata": {},
   "outputs": [],
   "source": [
    "def index_ozet(j,cumle_sayisi):\n",
    "    return metin_ozetle(df[\"Haber_Metni\"],j,cumle_sayisi)\n",
    "    "
   ]
  },
  {
   "cell_type": "code",
   "execution_count": 13,
   "id": "773d1172",
   "metadata": {},
   "outputs": [
    {
     "name": "stdout",
     "output_type": "stream",
     "text": [
      "Haber index'i giriniz ---> 11\n",
      "Kac cumlede ozetlesin ? ---> 3\n",
      "Headline:\n",
      "Yeni bir araştırma, petrol ve doğal gaz kuyularına yakın yaşayan annelerin bebeklerinde kalp rahatsızlığı riskinin daha yüksek olduğunu gösteriyor.\n",
      "\n",
      "Özet:\n"
     ]
    },
    {
     "data": {
      "text/plain": [
       "'Ülke çapında, 17 milyon kişi bu kuyulara yakın noktalarda yaşıyor.Kalp rahatsızlıkları bebeklerde büyümenin yavaşlamasına ve beyin rahatsızlıklarına sebep olabiliyor.Doğuştan gelen kalp rahatsızlıkları, doğuştan gelen hastalıklar sebebiyle yaşamını yitiren bebekler arasında en yüksek ölüm oranına sahip.'"
      ]
     },
     "execution_count": 13,
     "metadata": {},
     "output_type": "execute_result"
    }
   ],
   "source": [
    "j = int(input(\"Haber index'i giriniz ---> \"))\n",
    "cumle_sayisi = int(input(\"Kac cumlede ozetlesin ? ---> \"))\n",
    "\n",
    "index_ozet(j,cumle_sayisi)"
   ]
  },
  {
   "cell_type": "code",
   "execution_count": null,
   "id": "25356b2e",
   "metadata": {},
   "outputs": [],
   "source": []
  },
  {
   "cell_type": "code",
   "execution_count": null,
   "id": "1572b80a",
   "metadata": {},
   "outputs": [],
   "source": []
  }
 ],
 "metadata": {
  "kernelspec": {
   "display_name": "Python 3 (ipykernel)",
   "language": "python",
   "name": "python3"
  },
  "language_info": {
   "codemirror_mode": {
    "name": "ipython",
    "version": 3
   },
   "file_extension": ".py",
   "mimetype": "text/x-python",
   "name": "python",
   "nbconvert_exporter": "python",
   "pygments_lexer": "ipython3",
   "version": "3.11.5"
  }
 },
 "nbformat": 4,
 "nbformat_minor": 5
}
